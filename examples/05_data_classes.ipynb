{
 "cells": [
  {
   "cell_type": "markdown",
   "metadata": {},
   "source": [
    "ctrl shift o\n",
    "\n",
    "# Data classes\n",
    "\n",
    "https://docs.python.org/3/library/dataclasses.html"
   ]
  },
  {
   "cell_type": "markdown",
   "metadata": {},
   "source": [
    "## A simple example"
   ]
  },
  {
   "cell_type": "code",
   "execution_count": null,
   "metadata": {},
   "outputs": [],
   "source": [
    "from dataclasses import dataclass\n",
    "from typing import Union\n",
    "\n",
    "@dataclass\n",
    "class AppConfig:\n",
    "    app_name: str\n",
    "    ip_address: str\n",
    "    port: str\n",
    "    log_level: str = \"INFO\""
   ]
  },
  {
   "cell_type": "code",
   "execution_count": null,
   "metadata": {},
   "outputs": [],
   "source": [
    "config = AppConfig(\n",
    "    app_name=\"My Web App\",\n",
    "    ip_address=\"127.0.0.1\",\n",
    "    port=\"8080\"\n",
    ")\n",
    "config"
   ]
  },
  {
   "cell_type": "code",
   "execution_count": null,
   "metadata": {},
   "outputs": [],
   "source": [
    "config = AppConfig(\n",
    "    app_name=\"My Web App\",\n",
    "    ip_address=\"127.0.0.1\",\n",
    "    port=\"8080\",\n",
    "    log_level=\"whatevs\"\n",
    ")\n",
    "config"
   ]
  },
  {
   "cell_type": "markdown",
   "metadata": {},
   "source": [
    "## Add some validation"
   ]
  },
  {
   "cell_type": "code",
   "execution_count": null,
   "metadata": {},
   "outputs": [],
   "source": [
    "from typing import Tuple\n",
    "\n",
    "@dataclass\n",
    "class AppConfig:\n",
    "    app_name: str\n",
    "    ip_address: str\n",
    "    port: str\n",
    "    log_level: str = \"INFO\"\n",
    "        \n",
    "    LOG_LEVELS: Tuple[str] = (\"INFO\", \"WARN\", \"ERROR\")\n",
    "\n",
    "    def __post_init__(self):\n",
    "        if self.log_level not in AppConfig.LOG_LEVELS:\n",
    "            raise ValueError(f\"'{self.log_level}' is not a valid log level\")"
   ]
  },
  {
   "cell_type": "code",
   "execution_count": null,
   "metadata": {},
   "outputs": [],
   "source": [
    "config = AppConfig(\n",
    "    app_name=\"My Web App\",\n",
    "    ip_address=\"127.0.0.1\",\n",
    "    port=\"8080\",\n",
    "    log_level=\"whatevs\"\n",
    ")\n",
    "config"
   ]
  },
  {
   "cell_type": "code",
   "execution_count": null,
   "metadata": {},
   "outputs": [],
   "source": [
    "config = AppConfig(\n",
    "    app_name=\"My Web App\",\n",
    "    ip_address=\"127.0.0.1\",\n",
    "    port=\"8080\",\n",
    "    log_level=\"INFO\"\n",
    ")\n",
    "config"
   ]
  },
  {
   "cell_type": "code",
   "execution_count": null,
   "metadata": {},
   "outputs": [],
   "source": [
    "from typing import ClassVar\n",
    "\n",
    "@dataclass\n",
    "class AppConfig:\n",
    "    LOG_LEVELS: ClassVar[Tuple[str]] = (\"INFO\", \"WARN\", \"ERROR\")\n",
    "\n",
    "    app_name: str\n",
    "    ip_address: str\n",
    "    port: str\n",
    "    log_level: str = \"INFO\"\n",
    "\n",
    "    def __post_init__(self):\n",
    "        if self.log_level not in AppConfig.LOG_LEVELS:\n",
    "            raise ValueError(f\"'{log_level}' is not a valid log level\")\n",
    "\n",
    "config = AppConfig(\n",
    "    app_name=\"My Web App\",\n",
    "    ip_address=\"127.0.0.1\",\n",
    "    port=\"8080\",\n",
    "    log_level=\"INFO\"\n",
    ")\n",
    "config"
   ]
  },
  {
   "cell_type": "markdown",
   "metadata": {},
   "source": [
    "## Immutable data classes\n",
    "\n",
    "What if we want to make an immutable class?"
   ]
  },
  {
   "cell_type": "code",
   "execution_count": null,
   "metadata": {},
   "outputs": [],
   "source": [
    "from collections import namedtuple\n",
    "\n",
    "AppConfig = namedtuple(\"AppConfig\", [\"app_name\", \"ip_address\", \"port\", \"log_level\"])\n",
    "config = AppConfig(\"My Web App\", \"127.0.0.1\", \"8080\", \"INFO\")\n",
    "\n",
    "print(config)\n",
    "print(config.app_name)\n",
    "\n",
    "config.app_name = \"New App Name\""
   ]
  },
  {
   "cell_type": "code",
   "execution_count": null,
   "metadata": {},
   "outputs": [],
   "source": [
    "@dataclass(frozen=True)\n",
    "class AppConfig:\n",
    "    LOG_LEVELS: ClassVar[Tuple[str]] = (\"INFO\", \"WARN\", \"ERROR\")\n",
    "\n",
    "    app_name: str\n",
    "    ip_address: str\n",
    "    port: str\n",
    "    log_level: str = \"INFO\"\n",
    "\n",
    "    def __post_init__(self):\n",
    "        if self.log_level not in AppConfig.LOG_LEVELS:\n",
    "            raise ValueError(f\"'{log_level}' is not a valid log level\")\n",
    "\n",
    "config = AppConfig(\n",
    "    app_name=\"My Web App\",\n",
    "    ip_address=\"127.0.0.1\",\n",
    "    port=\"8080\"\n",
    ")\n",
    "\n",
    "config.app_name = \"New App Name\""
   ]
  },
  {
   "cell_type": "markdown",
   "metadata": {},
   "source": [
    "#### What if we want to make new, edited copies?"
   ]
  },
  {
   "cell_type": "code",
   "execution_count": null,
   "metadata": {},
   "outputs": [],
   "source": [
    "from dataclasses import replace\n",
    "\n",
    "@dataclass(frozen=True)\n",
    "class AppConfig:\n",
    "    LOG_LEVELS: ClassVar[Tuple[str]] = (\"INFO\", \"WARN\", \"ERROR\")\n",
    "\n",
    "    app_name: str\n",
    "    ip_address: str\n",
    "    port: str\n",
    "    log_level: str = \"INFO\"\n",
    "\n",
    "    def __post_init__(self):\n",
    "        if self.log_level not in AppConfig.LOG_LEVELS:\n",
    "            raise ValueError(f\"'{log_level}' is not a valid log level\")\n",
    "    \n",
    "    def with_app_name(self, app_name: str):\n",
    "        return replace(self, app_name=app_name)\n",
    "\n",
    "config = AppConfig(\n",
    "    app_name=\"My Web App\",\n",
    "    ip_address=\"127.0.0.1\",\n",
    "    port=\"8080\"\n",
    ")\n",
    "\n",
    "new_config = config.with_app_name(\"My New App Name\")\n",
    "\n",
    "print(config)\n",
    "print(new_config)"
   ]
  },
  {
   "cell_type": "markdown",
   "metadata": {},
   "source": [
    "## To / from dicts"
   ]
  },
  {
   "cell_type": "code",
   "execution_count": null,
   "metadata": {},
   "outputs": [],
   "source": [
    "from dataclasses import asdict\n",
    "\n",
    "\n",
    "config_dict = asdict(new_config)\n",
    "config_dict"
   ]
  },
  {
   "cell_type": "code",
   "execution_count": null,
   "metadata": {},
   "outputs": [],
   "source": [
    "@dataclass\n",
    "class AppConfig:\n",
    "    LOG_LEVELS: ClassVar[Tuple[str]] = (\"INFO\", \"WARN\", \"ERROR\")\n",
    "\n",
    "    app_name: str\n",
    "    ip_address: str\n",
    "    port: str\n",
    "    log_level: str = \"INFO\"\n",
    "\n",
    "    def __post_init__(self):\n",
    "        if self.log_level not in AppConfig.LOG_LEVELS:\n",
    "            raise ValueError(f\"'{log_level}' is not a valid log level\")"
   ]
  },
  {
   "cell_type": "code",
   "execution_count": null,
   "metadata": {},
   "outputs": [],
   "source": [
    "import dacite"
   ]
  },
  {
   "cell_type": "code",
   "execution_count": null,
   "metadata": {},
   "outputs": [],
   "source": [
    "config_dict = {\n",
    "    'app_name': 'My New App Name',\n",
    "    'ip_address': '127.0.0.1',\n",
    "    'port': \"8080\",\n",
    "    'log_level': 'INFO'\n",
    "}\n",
    "\n",
    "config_obj = dacite.from_dict(AppConfig, config_dict)\n",
    "config_obj"
   ]
  },
  {
   "cell_type": "code",
   "execution_count": null,
   "metadata": {},
   "outputs": [],
   "source": [
    "config_dict = {\n",
    "    'app_name': 'My New App Name',\n",
    "    'ip_address': '127.0.0.1',\n",
    "    'port': 8080,\n",
    "    'log_level': 'INFO'\n",
    "}\n",
    "\n",
    "config_obj = dacite.from_dict(AppConfig, config_dict)\n",
    "config_obj\n",
    "\n",
    "# note: the `dataclass` built-in does NOT validate argument types\n",
    "# but dacide does!"
   ]
  },
  {
   "cell_type": "code",
   "execution_count": null,
   "metadata": {},
   "outputs": [],
   "source": [
    "config_dict = {\n",
    "    'app_name': 'My New App Name',\n",
    "    'ip_address': '127.0.0.1',\n",
    "    'port': 8080,\n",
    "    'log_level': 'INFO'\n",
    "}\n",
    "\n",
    "@dataclass\n",
    "class AppConfig:\n",
    "    LOG_LEVELS: ClassVar[Tuple[str]] = (\"INFO\", \"WARN\", \"ERROR\")\n",
    "\n",
    "    app_name: str\n",
    "    ip_address: str\n",
    "    port: Union[str, int]\n",
    "    log_level: str = \"INFO\"\n",
    "\n",
    "    def __post_init__(self):\n",
    "        if self.log_level not in AppConfig.LOG_LEVELS:\n",
    "            raise ValueError(f\"'{log_level}' is not a valid log level\")\n",
    "\n",
    "config_obj = dacite.from_dict(AppConfig, config_dict)\n",
    "config_obj"
   ]
  },
  {
   "cell_type": "code",
   "execution_count": null,
   "metadata": {},
   "outputs": [],
   "source": []
  }
 ],
 "metadata": {
  "kernelspec": {
   "display_name": "Python 3.8.1 64-bit ('WNIP': pipenv)",
   "language": "python",
   "name": "python38164bitwnippipenv89e20149deec43d19730d63a1e96440a"
  },
  "language_info": {
   "codemirror_mode": {
    "name": "ipython",
    "version": 3
   },
   "file_extension": ".py",
   "mimetype": "text/x-python",
   "name": "python",
   "nbconvert_exporter": "python",
   "pygments_lexer": "ipython3",
   "version": "3.8.1"
  }
 },
 "nbformat": 4,
 "nbformat_minor": 4
}
